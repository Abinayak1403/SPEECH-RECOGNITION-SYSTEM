{
  "nbformat": 4,
  "nbformat_minor": 0,
  "metadata": {
    "colab": {
      "provenance": []
    },
    "kernelspec": {
      "name": "python3",
      "display_name": "Python 3"
    },
    "language_info": {
      "name": "python"
    }
  },
  "cells": [
    {
      "cell_type": "code",
      "execution_count": null,
      "metadata": {
        "colab": {
          "base_uri": "https://localhost:8080/"
        },
        "id": "m3uMx4L68bvO",
        "outputId": "0372a2b6-1dc6-4444-f664-3bbef8397f04"
      },
      "outputs": [
        {
          "output_type": "stream",
          "name": "stdout",
          "text": [
            "Collecting SpeechRecognition\n",
            "  Downloading speechrecognition-3.14.3-py3-none-any.whl.metadata (30 kB)\n",
            "Requirement already satisfied: typing-extensions in /usr/local/lib/python3.11/dist-packages (from SpeechRecognition) (4.14.0)\n",
            "Downloading speechrecognition-3.14.3-py3-none-any.whl (32.9 MB)\n",
            "\u001b[2K   \u001b[90m━━━━━━━━━━━━━━━━━━━━━━━━━━━━━━━━━━━━━━━━\u001b[0m \u001b[32m32.9/32.9 MB\u001b[0m \u001b[31m19.5 MB/s\u001b[0m eta \u001b[36m0:00:00\u001b[0m\n",
            "\u001b[?25hInstalling collected packages: SpeechRecognition\n",
            "Successfully installed SpeechRecognition-3.14.3\n"
          ]
        }
      ],
      "source": [
        "pip install SpeechRecognition\n"
      ]
    },
    {
      "cell_type": "code",
      "source": [
        "# =============================================\n",
        "# 🎙️ CodTech AI Internship - Task 2\n",
        "# 📌 Enhanced Speech-to-Text Transcriber\n",
        "# 🖥️ Developed using Python & SpeechRecognition\n",
        "# =============================================\n",
        "\n",
        "import speech_recognition as sr\n",
        "import os\n",
        "import wave\n",
        "import contextlib\n",
        "\n",
        "def get_audio_duration(file_path):\n",
        "    \"\"\"\n",
        "    Returns the duration (in seconds) of a WAV audio file.\n",
        "    \"\"\"\n",
        "    try:\n",
        "        with contextlib.closing(wave.open(file_path, 'r')) as audio_file:\n",
        "            frames = audio_file.getnframes()\n",
        "            rate = audio_file.getframerate()\n",
        "            duration = frames / float(rate)\n",
        "            return round(duration, 2)\n",
        "    except wave.Error:\n",
        "        return None\n",
        "\n",
        "def transcribe_audio(file_path):\n",
        "    \"\"\"\n",
        "    Transcribes spoken words from a WAV file using Google's Web Speech API.\n",
        "    \"\"\"\n",
        "    recognizer = sr.Recognizer()\n",
        "\n",
        "    try:\n",
        "        with sr.AudioFile(file_path) as source:\n",
        "            print(\"🔊 Processing audio... please wait.\")\n",
        "            audio = recognizer.record(source)\n",
        "\n",
        "        print(\"🧠 Transcribing using Google Speech API...\")\n",
        "        text = recognizer.recognize_google(audio)\n",
        "\n",
        "        print(\"\\n✅ Transcription Successful!\")\n",
        "        print(\"=\" * 50)\n",
        "        print(text)\n",
        "        print(\"=\" * 50)\n",
        "        print(f\"📊 Word Count: {len(text.split())} words\")\n",
        "\n",
        "        save = input(\"\\n💾 Do you want to save this transcription as a .txt file? (y/n): \").lower()\n",
        "        if save == 'y':\n",
        "            with open(\"transcription_output.txt\", \"w\", encoding=\"utf-8\") as f:\n",
        "                f.write(text)\n",
        "            print(\"📁 Saved as 'transcription_output.txt'.\")\n",
        "\n",
        "    except sr.UnknownValueError:\n",
        "        print(\"⚠️ Could not understand the audio. Try a clearer recording.\")\n",
        "    except sr.RequestError:\n",
        "        print(\"❌ Could not reach Google API. Check your internet connection.\")\n",
        "    except Exception as e:\n",
        "        print(f\"🚫 An unexpected error occurred: {str(e)}\")\n",
        "\n",
        "def main():\n",
        "    \"\"\"\n",
        "    Entry point for the Speech-to-Text script.\n",
        "    \"\"\"\n",
        "    print(\"=\" * 55)\n",
        "    print(\"🎙️  WELCOME TO SPEECH-TO-TEXT CONVERTER - CodTech AI Internship\")\n",
        "    print(\"=\" * 55)\n",
        "\n",
        "    file_path = input(\"📁 Enter full path to your WAV audio file: \").strip()\n",
        "    file_path = file_path.replace(\"\\\\\", \"/\")  # Windows-safe path\n",
        "\n",
        "    # Check if file exists\n",
        "    if not os.path.isfile(file_path):\n",
        "        print(\"❌ Error: File not found. Check the file path.\")\n",
        "        return\n",
        "\n",
        "    # Validate WAV file\n",
        "    if not file_path.lower().endswith(\".wav\"):\n",
        "        print(\"❌ Error: Please provide a .wav audio file only.\")\n",
        "        return\n",
        "\n",
        "    # Duration check\n",
        "    duration = get_audio_duration(file_path)\n",
        "    if duration is None:\n",
        "        print(\"❌ Error: Cannot read audio file (may be corrupted).\")\n",
        "        return\n",
        "\n",
        "    print(f\"⏱️ Audio Duration: {duration} seconds\")\n",
        "    if duration > 60:\n",
        "        print(\"⚠️ Warning: File is longer than 60 seconds. This may affect performance.\")\n",
        "\n",
        "    # Transcribe\n",
        "    transcribe_audio(file_path)\n",
        "\n",
        "if __name__ == \"__main__\":\n",
        "    main()\n"
      ],
      "metadata": {
        "colab": {
          "base_uri": "https://localhost:8080/"
        },
        "id": "jF8T8SOf8L6v",
        "outputId": "6207446a-f740-4f09-9b91-9f09fb2e44e3"
      },
      "execution_count": null,
      "outputs": [
        {
          "output_type": "stream",
          "name": "stdout",
          "text": [
            "=======================================================\n",
            "🎙️  WELCOME TO SPEECH-TO-TEXT CONVERTER - CodTech AI Internship\n",
            "=======================================================\n",
            "📁 Enter full path to your WAV audio file: /content/voice-sample.wav\n",
            "⏱️ Audio Duration: 26.3 seconds\n",
            "🔊 Processing audio... please wait.\n",
            "🧠 Transcribing using Google Speech API...\n",
            "\n",
            "✅ Transcription Successful!\n",
            "==================================================\n",
            "hi there this is a sample voice recording created for speech synthesis testing the quick brown fox jumps over the lazy dog just a fun way to include every letter of the alphabet numbers like 1 2 3 are spoken clearly let's see how well this voice captures tone timing and natural Rhythm this audio is provided by sample files.com\n",
            "==================================================\n",
            "📊 Word Count: 60 words\n",
            "\n",
            "💾 Do you want to save this transcription as a .txt file? (y/n): y\n",
            "📁 Saved as 'transcription_output.txt'.\n"
          ]
        }
      ]
    }
  ]
}